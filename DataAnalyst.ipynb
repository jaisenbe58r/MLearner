{
 "cells": [
  {
   "cell_type": "markdown",
   "metadata": {},
   "source": [
    "# Preprocessing"
   ]
  },
  {
   "cell_type": "markdown",
   "metadata": {},
   "source": [
    "### Data analysis - EDA"
   ]
  },
  {
   "cell_type": "code",
   "execution_count": 1,
   "metadata": {},
   "outputs": [],
   "source": [
    "import numpy as np\n",
    "import pandas as pd\n",
    "import matplotlib.pyplot as plt\n",
    "import seaborn as sns\n",
    "\n",
    "from mlearner.preprocessing import DataAnalyst, FeatureDropper\n",
    "\n",
    "%matplotlib inline"
   ]
  },
  {
   "cell_type": "markdown",
   "metadata": {},
   "source": [
    "Load data in `base_preprocess` class"
   ]
  },
  {
   "cell_type": "code",
   "execution_count": 2,
   "metadata": {},
   "outputs": [],
   "source": [
    "filename = \"../../8_SVS/05_Repositorios/00_ProyectosBase/21_DatosCateg_Images/dataframe_dataset_TMMK_Class_Seeds-Craters-YarnSeed_v5.csv\"\n",
    "dataset = DataAnalyst.load_data(filename, sep=\";\")"
   ]
  },
  {
   "cell_type": "code",
   "execution_count": 3,
   "metadata": {},
   "outputs": [
    {
     "data": {
      "text/html": [
       "<div>\n",
       "<style scoped>\n",
       "    .dataframe tbody tr th:only-of-type {\n",
       "        vertical-align: middle;\n",
       "    }\n",
       "\n",
       "    .dataframe tbody tr th {\n",
       "        vertical-align: top;\n",
       "    }\n",
       "\n",
       "    .dataframe thead th {\n",
       "        text-align: right;\n",
       "    }\n",
       "</style>\n",
       "<table border=\"1\" class=\"dataframe\">\n",
       "  <thead>\n",
       "    <tr style=\"text-align: right;\">\n",
       "      <th></th>\n",
       "      <th>Id</th>\n",
       "      <th>path_img</th>\n",
       "      <th>00_Class</th>\n",
       "      <th>01_Class</th>\n",
       "      <th>02_Class</th>\n",
       "      <th>03_Class</th>\n",
       "      <th>04_Class</th>\n",
       "      <th>shape_x</th>\n",
       "      <th>shape_y</th>\n",
       "      <th>Defecto</th>\n",
       "      <th>...</th>\n",
       "      <th>Particle &amp; Holes' Area</th>\n",
       "      <th>Convex Hull Area</th>\n",
       "      <th>Image Area</th>\n",
       "      <th>Number of Holes</th>\n",
       "      <th>Orientation</th>\n",
       "      <th>Max Feret Diameter Orientation</th>\n",
       "      <th>% Area/Image Area</th>\n",
       "      <th>% Area/(Particle &amp; Holes' Area)</th>\n",
       "      <th>Ratio of Equivalent Ellipse Axes</th>\n",
       "      <th>Ratio of Equivalent Rect Sides</th>\n",
       "    </tr>\n",
       "  </thead>\n",
       "  <tbody>\n",
       "    <tr>\n",
       "      <th>0</th>\n",
       "      <td>Defect_1243</td>\n",
       "      <td>dataset/TMMK/Seeds_Craters_YarnSeed_v5/2/Defec...</td>\n",
       "      <td>00_Class_02_Defect_1243.png</td>\n",
       "      <td>01_Class_02_Defect_1243.png</td>\n",
       "      <td>02_Class_02_Defect_1243.png</td>\n",
       "      <td>03_Class_02_Defect_1243.png</td>\n",
       "      <td>04_Class_02_Defect_1243.png</td>\n",
       "      <td>43.0</td>\n",
       "      <td>43.0</td>\n",
       "      <td>1</td>\n",
       "      <td>...</td>\n",
       "      <td>55.0</td>\n",
       "      <td>59.0</td>\n",
       "      <td>1849.0</td>\n",
       "      <td>0.0</td>\n",
       "      <td>98.431334</td>\n",
       "      <td>109.983107</td>\n",
       "      <td>2.974581</td>\n",
       "      <td>100.0</td>\n",
       "      <td>2.108600</td>\n",
       "      <td>1.269282</td>\n",
       "    </tr>\n",
       "    <tr>\n",
       "      <th>1</th>\n",
       "      <td>Defect_0498</td>\n",
       "      <td>dataset/TMMK/Seeds_Craters_YarnSeed_v5/3/Defec...</td>\n",
       "      <td>00_Class_03_Defect_0498.png</td>\n",
       "      <td>01_Class_03_Defect_0498.png</td>\n",
       "      <td>02_Class_03_Defect_0498.png</td>\n",
       "      <td>03_Class_03_Defect_0498.png</td>\n",
       "      <td>04_Class_03_Defect_0498.png</td>\n",
       "      <td>40.0</td>\n",
       "      <td>39.0</td>\n",
       "      <td>1</td>\n",
       "      <td>...</td>\n",
       "      <td>28.0</td>\n",
       "      <td>28.0</td>\n",
       "      <td>1560.0</td>\n",
       "      <td>0.0</td>\n",
       "      <td>32.741461</td>\n",
       "      <td>29.744881</td>\n",
       "      <td>1.794872</td>\n",
       "      <td>100.0</td>\n",
       "      <td>1.402183</td>\n",
       "      <td>1.000000</td>\n",
       "    </tr>\n",
       "    <tr>\n",
       "      <th>2</th>\n",
       "      <td>Defect_2367</td>\n",
       "      <td>dataset/TMMK/Seeds_Craters_YarnSeed_v5/2/Defec...</td>\n",
       "      <td>00_Class_02_Defect_2367.png</td>\n",
       "      <td>01_Class_02_Defect_2367.png</td>\n",
       "      <td>02_Class_02_Defect_2367.png</td>\n",
       "      <td>03_Class_02_Defect_2367.png</td>\n",
       "      <td>04_Class_02_Defect_2367.png</td>\n",
       "      <td>43.0</td>\n",
       "      <td>43.0</td>\n",
       "      <td>1</td>\n",
       "      <td>...</td>\n",
       "      <td>52.0</td>\n",
       "      <td>54.0</td>\n",
       "      <td>1849.0</td>\n",
       "      <td>0.0</td>\n",
       "      <td>155.847842</td>\n",
       "      <td>161.565051</td>\n",
       "      <td>2.812331</td>\n",
       "      <td>100.0</td>\n",
       "      <td>2.482671</td>\n",
       "      <td>2.042998</td>\n",
       "    </tr>\n",
       "    <tr>\n",
       "      <th>3</th>\n",
       "      <td>Defect_0562</td>\n",
       "      <td>dataset/TMMK/Seeds_Craters_YarnSeed_v5/3/Defec...</td>\n",
       "      <td>00_Class_03_Defect_0562.png</td>\n",
       "      <td>01_Class_03_Defect_0562.png</td>\n",
       "      <td>02_Class_03_Defect_0562.png</td>\n",
       "      <td>03_Class_03_Defect_0562.png</td>\n",
       "      <td>04_Class_03_Defect_0562.png</td>\n",
       "      <td>38.0</td>\n",
       "      <td>38.0</td>\n",
       "      <td>1</td>\n",
       "      <td>...</td>\n",
       "      <td>20.0</td>\n",
       "      <td>21.0</td>\n",
       "      <td>1444.0</td>\n",
       "      <td>0.0</td>\n",
       "      <td>25.631031</td>\n",
       "      <td>153.434949</td>\n",
       "      <td>1.385042</td>\n",
       "      <td>100.0</td>\n",
       "      <td>1.000000</td>\n",
       "      <td>1.000000</td>\n",
       "    </tr>\n",
       "    <tr>\n",
       "      <th>4</th>\n",
       "      <td>Defect_0573</td>\n",
       "      <td>dataset/TMMK/Seeds_Craters_YarnSeed_v5/2/Defec...</td>\n",
       "      <td>00_Class_02_Defect_0573.png</td>\n",
       "      <td>01_Class_02_Defect_0573.png</td>\n",
       "      <td>02_Class_02_Defect_0573.png</td>\n",
       "      <td>03_Class_02_Defect_0573.png</td>\n",
       "      <td>04_Class_02_Defect_0573.png</td>\n",
       "      <td>38.0</td>\n",
       "      <td>37.0</td>\n",
       "      <td>1</td>\n",
       "      <td>...</td>\n",
       "      <td>21.0</td>\n",
       "      <td>21.0</td>\n",
       "      <td>1406.0</td>\n",
       "      <td>0.0</td>\n",
       "      <td>93.490529</td>\n",
       "      <td>116.565051</td>\n",
       "      <td>1.493599</td>\n",
       "      <td>100.0</td>\n",
       "      <td>1.936640</td>\n",
       "      <td>1.000000</td>\n",
       "    </tr>\n",
       "  </tbody>\n",
       "</table>\n",
       "<p>5 rows × 37 columns</p>\n",
       "</div>"
      ],
      "text/plain": [
       "            Id                                           path_img  \\\n",
       "0  Defect_1243  dataset/TMMK/Seeds_Craters_YarnSeed_v5/2/Defec...   \n",
       "1  Defect_0498  dataset/TMMK/Seeds_Craters_YarnSeed_v5/3/Defec...   \n",
       "2  Defect_2367  dataset/TMMK/Seeds_Craters_YarnSeed_v5/2/Defec...   \n",
       "3  Defect_0562  dataset/TMMK/Seeds_Craters_YarnSeed_v5/3/Defec...   \n",
       "4  Defect_0573  dataset/TMMK/Seeds_Craters_YarnSeed_v5/2/Defec...   \n",
       "\n",
       "                      00_Class                     01_Class  \\\n",
       "0  00_Class_02_Defect_1243.png  01_Class_02_Defect_1243.png   \n",
       "1  00_Class_03_Defect_0498.png  01_Class_03_Defect_0498.png   \n",
       "2  00_Class_02_Defect_2367.png  01_Class_02_Defect_2367.png   \n",
       "3  00_Class_03_Defect_0562.png  01_Class_03_Defect_0562.png   \n",
       "4  00_Class_02_Defect_0573.png  01_Class_02_Defect_0573.png   \n",
       "\n",
       "                      02_Class                     03_Class  \\\n",
       "0  02_Class_02_Defect_1243.png  03_Class_02_Defect_1243.png   \n",
       "1  02_Class_03_Defect_0498.png  03_Class_03_Defect_0498.png   \n",
       "2  02_Class_02_Defect_2367.png  03_Class_02_Defect_2367.png   \n",
       "3  02_Class_03_Defect_0562.png  03_Class_03_Defect_0562.png   \n",
       "4  02_Class_02_Defect_0573.png  03_Class_02_Defect_0573.png   \n",
       "\n",
       "                      04_Class shape_x shape_y  Defecto  \\\n",
       "0  04_Class_02_Defect_1243.png    43.0    43.0        1   \n",
       "1  04_Class_03_Defect_0498.png    40.0    39.0        1   \n",
       "2  04_Class_02_Defect_2367.png    43.0    43.0        1   \n",
       "3  04_Class_03_Defect_0562.png    38.0    38.0        1   \n",
       "4  04_Class_02_Defect_0573.png    38.0    37.0        1   \n",
       "\n",
       "                ...                Particle & Holes' Area Convex Hull Area  \\\n",
       "0               ...                                  55.0             59.0   \n",
       "1               ...                                  28.0             28.0   \n",
       "2               ...                                  52.0             54.0   \n",
       "3               ...                                  20.0             21.0   \n",
       "4               ...                                  21.0             21.0   \n",
       "\n",
       "   Image Area  Number of Holes  Orientation  Max Feret Diameter Orientation  \\\n",
       "0      1849.0              0.0    98.431334                      109.983107   \n",
       "1      1560.0              0.0    32.741461                       29.744881   \n",
       "2      1849.0              0.0   155.847842                      161.565051   \n",
       "3      1444.0              0.0    25.631031                      153.434949   \n",
       "4      1406.0              0.0    93.490529                      116.565051   \n",
       "\n",
       "   % Area/Image Area  % Area/(Particle & Holes' Area)  \\\n",
       "0           2.974581                            100.0   \n",
       "1           1.794872                            100.0   \n",
       "2           2.812331                            100.0   \n",
       "3           1.385042                            100.0   \n",
       "4           1.493599                            100.0   \n",
       "\n",
       "   Ratio of Equivalent Ellipse Axes  Ratio of Equivalent Rect Sides  \n",
       "0                          2.108600                        1.269282  \n",
       "1                          1.402183                        1.000000  \n",
       "2                          2.482671                        2.042998  \n",
       "3                          1.000000                        1.000000  \n",
       "4                          1.936640                        1.000000  \n",
       "\n",
       "[5 rows x 37 columns]"
      ]
     },
     "execution_count": 3,
     "metadata": {},
     "output_type": "execute_result"
    }
   ],
   "source": [
    "dataset.data.head(5)"
   ]
  },
  {
   "cell_type": "code",
   "execution_count": 4,
   "metadata": {},
   "outputs": [],
   "source": [
    "dataset.data = dataset.data.drop([\"Defecto\", \"Id\", \"path_img\", \"00_Class\", \"01_Class\", \"02_Class\",\n",
    "                   \"03_Class\", \"04_Class\", 'shape_x', 'shape_y', 'path_csv'], axis=1)"
   ]
  },
  {
   "cell_type": "code",
   "execution_count": 5,
   "metadata": {},
   "outputs": [
    {
     "data": {
      "text/plain": [
       "categoria                                   3\n",
       "Elongation Factor                         780\n",
       "Compactness Factor                        522\n",
       "Heywood Circularity Factor               1947\n",
       "Type Factor                              2511\n",
       "Perimeter                                 771\n",
       "Convex Hull Perimeter                     712\n",
       "Holes' Perimeter                           11\n",
       "Max Feret Diameter                        160\n",
       "Equivalent Ellipse Major Axis            1974\n",
       "Equivalent Ellipse Minor Axis            1975\n",
       "Equivalent Ellipse Minor Axis (Feret)    1038\n",
       "Hydraulic Radius                         1971\n",
       "Waddel Disk Diameter                      169\n",
       "Area                                      169\n",
       "Holes' Area                                10\n",
       "Particle & Holes' Area                    170\n",
       "Convex Hull Area                          191\n",
       "Image Area                                 66\n",
       "Number of Holes                             4\n",
       "Orientation                              2749\n",
       "Max Feret Diameter Orientation            267\n",
       "% Area/Image Area                         842\n",
       "% Area/(Particle & Holes' Area)            46\n",
       "Ratio of Equivalent Ellipse Axes         1771\n",
       "Ratio of Equivalent Rect Sides            641\n",
       "dtype: int64"
      ]
     },
     "execution_count": 5,
     "metadata": {},
     "output_type": "execute_result"
    }
   ],
   "source": [
    "dataset.data.nunique()"
   ]
  },
  {
   "cell_type": "code",
   "execution_count": 6,
   "metadata": {},
   "outputs": [
    {
     "name": "stdout",
     "output_type": "stream",
     "text": [
      "Number of categorical features: 0\n",
      "Number of numerical features: 26\n"
     ]
    },
    {
     "data": {
      "text/plain": [
       "([],\n",
       " ['categoria',\n",
       "  'Elongation Factor',\n",
       "  'Compactness Factor',\n",
       "  'Heywood Circularity Factor',\n",
       "  'Type Factor',\n",
       "  'Perimeter',\n",
       "  'Convex Hull Perimeter',\n",
       "  \"Holes' Perimeter\",\n",
       "  'Max Feret Diameter',\n",
       "  'Equivalent Ellipse Major Axis',\n",
       "  'Equivalent Ellipse Minor Axis',\n",
       "  'Equivalent Ellipse Minor Axis (Feret)',\n",
       "  'Hydraulic Radius',\n",
       "  'Waddel Disk Diameter',\n",
       "  'Area',\n",
       "  \"Holes' Area\",\n",
       "  \"Particle & Holes' Area\",\n",
       "  'Convex Hull Area',\n",
       "  'Image Area',\n",
       "  'Number of Holes',\n",
       "  'Orientation',\n",
       "  'Max Feret Diameter Orientation',\n",
       "  '% Area/Image Area',\n",
       "  \"% Area/(Particle & Holes' Area)\",\n",
       "  'Ratio of Equivalent Ellipse Axes',\n",
       "  'Ratio of Equivalent Rect Sides'])"
      ]
     },
     "execution_count": 6,
     "metadata": {},
     "output_type": "execute_result"
    }
   ],
   "source": [
    "dataset.categorical_vs_numerical()"
   ]
  },
  {
   "cell_type": "markdown",
   "metadata": {},
   "source": [
    "#### Categoria 2-3"
   ]
  },
  {
   "cell_type": "code",
   "execution_count": 7,
   "metadata": {},
   "outputs": [],
   "source": [
    "from mlearner.preprocessing import ExtractCategories\n",
    "\n",
    "ec = ExtractCategories([2, 3], target=[\"categoria\"]).fit(dataset.data)\n",
    "dataset.data = ec.transform(dataset.data)\n",
    "\n",
    "dataset.Xy_dataset(target=[\"categoria\"])"
   ]
  },
  {
   "cell_type": "markdown",
   "metadata": {},
   "source": [
    "## Model training\n",
    "\n",
    "We will implement the following models:\n",
    "\n",
    "- **Linear Regression**: preprocessing is required and we will use `StandardScaler` (mean zero with unit variance);\n",
    "- **XGBoost / LightGBM**: no preprocessing as decision trees are capable of handling features with different scales."
   ]
  },
  {
   "cell_type": "markdown",
   "metadata": {},
   "source": [
    "##### LightGBM"
   ]
  },
  {
   "cell_type": "code",
   "execution_count": 8,
   "metadata": {},
   "outputs": [],
   "source": [
    "from mlearner.models import modelLightBoost"
   ]
  },
  {
   "cell_type": "code",
   "execution_count": 9,
   "metadata": {},
   "outputs": [],
   "source": [
    "LGM = modelLightBoost()"
   ]
  },
  {
   "cell_type": "code",
   "execution_count": 10,
   "metadata": {},
   "outputs": [
    {
     "name": "stdout",
     "output_type": "stream",
     "text": [
      "Accurancy para el conjunto de entrenamiento ---> 99.77%\n",
      "Accurancy para el conjunto de validacion ------> 90.14%\n"
     ]
    }
   ],
   "source": [
    "LGM.fit(X=dataset.X, y=dataset.y)"
   ]
  },
  {
   "cell_type": "code",
   "execution_count": 11,
   "metadata": {},
   "outputs": [
    {
     "name": "stdout",
     "output_type": "stream",
     "text": [
      "\n",
      "Optimal Round: 0\n",
      "Optimal Score: 0.901 + stdv:0.010\n"
     ]
    }
   ],
   "source": [
    "score, results = LGM.fit_cv(X=dataset.X, y=dataset.y)"
   ]
  },
  {
   "cell_type": "code",
   "execution_count": 12,
   "metadata": {},
   "outputs": [
    {
     "data": {
      "image/png": "[encoded data removed]",
      "text/plain": [
       "<Figure size 432x432 with 1 Axes>"
      ]
     },
     "metadata": {
      "needs_background": "light"
     },
     "output_type": "display_data"
    }
   ],
   "source": [
    "LGM.get_important_features(max_num_features=20)"
   ]
  },
  {
   "cell_type": "code",
   "execution_count": 29,
   "metadata": {},
   "outputs": [
    {
     "name": "stdout",
     "output_type": "stream",
     "text": [
      "Modelo guardado en la ruta: ./checkpoints/model1_lgbm_20200425-203812.txt\n",
      "Modelo guardado en la ruta: ./checkpoints/model1_lgbm_20200425-203812.pkl\n"
     ]
    }
   ],
   "source": [
    "LGM.save_model(direct=\"./checkpoints\", name=\"model1_lgbm\")\n",
    "LGM.save_model(direct=\"./checkpoints\", name=\"model1_lgbm\", file_model=\".pkl\")"
   ]
  },
  {
   "cell_type": "markdown",
   "metadata": {},
   "source": [
    "##### XGBoost"
   ]
  },
  {
   "cell_type": "code",
   "execution_count": 72,
   "metadata": {},
   "outputs": [],
   "source": [
    "from mlearner.models import modelXGBoost\n",
    "import xgboost"
   ]
  },
  {
   "cell_type": "code",
   "execution_count": 15,
   "metadata": {},
   "outputs": [],
   "source": [
    "XGB = modelXGBoost()"
   ]
  },
  {
   "cell_type": "code",
   "execution_count": 16,
   "metadata": {},
   "outputs": [
    {
     "data": {
      "text/plain": [
       "array([0, 1], dtype=int64)"
      ]
     },
     "execution_count": 16,
     "metadata": {},
     "output_type": "execute_result"
    }
   ],
   "source": [
    "XGB.dataset(X=dataset.X, y=dataset.y)\n",
    "XGB.y.unique()"
   ]
  },
  {
   "cell_type": "code",
   "execution_count": 17,
   "metadata": {},
   "outputs": [
    {
     "name": "stdout",
     "output_type": "stream",
     "text": [
      "Accurancy para el conjunto de entrenamiento ---> 91.93%\n",
      "Accurancy para el conjunto de validacion ------> 90.14%\n"
     ]
    }
   ],
   "source": [
    "XGB.fit(X=dataset.X, y=dataset.y)"
   ]
  },
  {
   "cell_type": "code",
   "execution_count": 18,
   "metadata": {},
   "outputs": [
    {
     "name": "stdout",
     "output_type": "stream",
     "text": [
      "\n",
      "Optimal Round: 1\n",
      "Optimal Score: 0.918 + std:0.014\n"
     ]
    }
   ],
   "source": [
    "score, results = XGB.fit_cv(X=dataset.X, y=dataset.y)"
   ]
  },
  {
   "cell_type": "code",
   "execution_count": 19,
   "metadata": {},
   "outputs": [
    {
     "data": {
      "image/png": "[encoded data removed]",
      "text/plain": [
       "<Figure size 864x432 with 1 Axes>"
      ]
     },
     "metadata": {
      "needs_background": "light"
     },
     "output_type": "display_data"
    }
   ],
   "source": [
    "_ = XGB.get_important_features()"
   ]
  },
  {
   "cell_type": "code",
   "execution_count": 45,
   "metadata": {},
   "outputs": [
    {
     "name": "stdout",
     "output_type": "stream",
     "text": [
      "Modelo guardado en la ruta: ./checkpoints/model2_xgb_20200425-205636.txt\n",
      "Modelo guardado en la ruta: ./checkpoints/model2_xgb_20200425-205636.pkl\n"
     ]
    }
   ],
   "source": [
    "XGB.save_model(direct=\"./checkpoints\", name=\"model2_xgb\")\n",
    "XGB.save_model(direct=\"./checkpoints\", name=\"model2_xgb\", file_model=\".pkl\")"
   ]
  },
  {
   "cell_type": "markdown",
   "metadata": {},
   "source": [
    "## Linear regression"
   ]
  },
  {
   "cell_type": "code",
   "execution_count": 25,
   "metadata": {},
   "outputs": [],
   "source": [
    "from sklearn.preprocessing import StandardScaler\n",
    "from sklearn.model_selection import train_test_split\n",
    "from sklearn.metrics import mean_squared_error\n",
    "\n",
    "X_train, X_test, y_train, y_test = train_test_split(dataset.X, dataset.y)\n",
    "\n",
    "scaler = StandardScaler().fit(X_train)\n",
    "X_train_std = scaler.transform(X_train)\n",
    "X_valid_std = scaler.transform(X_test)"
   ]
  },
  {
   "cell_type": "code",
   "execution_count": 28,
   "metadata": {},
   "outputs": [
    {
     "name": "stdout",
     "output_type": "stream",
     "text": [
      "0.47090354200719364\n",
      "0.41358870556781274\n",
      "0.42658036933559307\n"
     ]
    }
   ],
   "source": [
    "from sklearn.linear_model import LinearRegression, Ridge, Lasso\n",
    "import joblib\n",
    "\n",
    "model_linreg = LinearRegression(fit_intercept=True)\n",
    "model_linreg.fit(X_train_std, y_train)\n",
    "print(np.sqrt(mean_squared_error(y_test, model_linreg.predict(X_valid_std))))\n",
    "_ = joblib.dump(model_linreg, 'checkpoints/model3_linreg.pkl')\n",
    "\n",
    "model_ridge = Ridge(alpha=4.0, fit_intercept=True, max_iter=1000, solver='saga')\n",
    "model_ridge.fit(X_train_std, y_train)\n",
    "print(np.sqrt(mean_squared_error(y_test, model_ridge.predict(X_valid_std))))\n",
    "_ = joblib.dump(model_ridge, 'checkpoints/model4_ridge.pkl');\n",
    "\n",
    "model_lasso = Lasso(alpha=10.0, fit_intercept=True, max_iter=1000)\n",
    "model_lasso.fit(X_train_std, y_train)\n",
    "print(np.sqrt(mean_squared_error(y_test, model_lasso.predict(X_valid_std))))\n",
    "_ = joblib.dump(model_lasso, 'checkpoints/model5_lasso.pkl')"
   ]
  },
  {
   "cell_type": "markdown",
   "metadata": {},
   "source": [
    "## Ensembling and test predictions"
   ]
  },
  {
   "cell_type": "code",
   "execution_count": 65,
   "metadata": {},
   "outputs": [],
   "source": [
    "model_lgbm = joblib.load('checkpoints/model1_lgbm_20200425-203812.pkl')\n",
    "model_xgb = joblib.load('checkpoints/model2_xgb_20200425-205636.pkl')\n",
    "model_lreg = joblib.load('checkpoints/model3_linreg.pkl')\n",
    "model_ridge = joblib.load('checkpoints/model4_ridge.pkl')\n",
    "model_lasso = joblib.load('checkpoints/model5_lasso.pkl')\n",
    "model_linreg = joblib.load('checkpoints/model3_linreg.pkl')"
   ]
  },
  {
   "cell_type": "code",
   "execution_count": 66,
   "metadata": {},
   "outputs": [
    {
     "data": {
      "text/plain": [
       "array([[9.99688554e-01, 2.27363775e+00],\n",
       "       [9.99997687e-01, 2.54997485e+00],\n",
       "       [9.99954683e-01, 2.40695313e+00],\n",
       "       [5.78364952e-03, 2.35414109e+00],\n",
       "       [1.38449660e-07, 2.20274853e+00],\n",
       "       [2.08482891e-06, 2.17357987e+00],\n",
       "       [9.99994225e-01, 2.21949015e+00],\n",
       "       [9.99992630e-01, 2.23595184e+00],\n",
       "       [1.61368049e-03, 2.23009461e+00],\n",
       "       [2.24768935e-04, 2.04366938e+00]])"
      ]
     },
     "execution_count": 66,
     "metadata": {},
     "output_type": "execute_result"
    }
   ],
   "source": [
    "Y_valid_lgbm = model_lgbm.predict(X_test)\n",
    "Y_valid_lreg = model_linreg.predict(X_valid_std)\n",
    "X_valid_level2 = np.c_[Y_valid_lgbm, Y_valid_lreg]\n",
    "X_valid_level2[:10,:]"
   ]
  },
  {
   "cell_type": "code",
   "execution_count": null,
   "metadata": {},
   "outputs": [],
   "source": []
  },
  {
   "cell_type": "markdown",
   "metadata": {},
   "source": [
    "## Stacking"
   ]
  },
  {
   "cell_type": "code",
   "execution_count": 67,
   "metadata": {},
   "outputs": [],
   "source": [
    "y_train_level2 = y_train\n",
    "X_train_level2 = np.zeros([y_train_level2.shape[0], 2])"
   ]
  },
  {
   "cell_type": "code",
   "execution_count": 68,
   "metadata": {},
   "outputs": [],
   "source": [
    "lr_stack = LinearRegression().fit(X_train_level2, Y_train_level2)"
   ]
  },
  {
   "cell_type": "code",
   "execution_count": 69,
   "metadata": {},
   "outputs": [
    {
     "name": "stdout",
     "output_type": "stream",
     "text": [
      "RMSE Train: 0.407979\n",
      "RMSE Test : 0.426580\n"
     ]
    }
   ],
   "source": [
    "train_preds = lr_stack.predict(X_train_level2)\n",
    "rmse_train = np.sqrt(mean_squared_error(y_train_level2, train_preds))\n",
    "\n",
    "valid_preds = lr_stack.predict(X_valid_level2)\n",
    "rmse_valid = np.sqrt(mean_squared_error(y_test, valid_preds))\n",
    "\n",
    "print('RMSE Train: %f' % rmse_train)\n",
    "print('RMSE Test : %f' % rmse_valid)"
   ]
  },
  {
   "cell_type": "markdown",
   "metadata": {},
   "source": [
    "##  test predictions"
   ]
  },
  {
   "cell_type": "code",
   "execution_count": 83,
   "metadata": {},
   "outputs": [],
   "source": [
    "Y_test_lgbm = model_lgbm.predict(X_test).clip(0, 20)\n",
    "Y_test_xgbm = model_xgb.predict(xgboost.DMatrix(X_test)).clip(0, 20)\n",
    "Y_test_lreg = model_linreg.predict(X_test).clip(0, 20)\n",
    "Y_test_ridge = model_ridge.predict(X_test).clip(0, 20)\n",
    "Y_test_lasso = model_lasso.predict(X_test).clip(0, 20)"
   ]
  },
  {
   "cell_type": "code",
   "execution_count": null,
   "metadata": {},
   "outputs": [],
   "source": []
  }
 ],
 "metadata": {
  "kernelspec": {
   "display_name": "Python 3",
   "language": "python",
   "name": "python3"
  },
  "language_info": {
   "codemirror_mode": {
    "name": "ipython",
    "version": 3
   },
   "file_extension": ".py",
   "mimetype": "text/x-python",
   "name": "python",
   "nbconvert_exporter": "python",
   "pygments_lexer": "ipython3",
   "version": "3.6.9"
  }
 },
 "nbformat": 4,
 "nbformat_minor": 2
}
